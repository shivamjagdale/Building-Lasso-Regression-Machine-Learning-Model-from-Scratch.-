{
  "nbformat": 4,
  "nbformat_minor": 0,
  "metadata": {
    "colab": {
      "provenance": []
    },
    "kernelspec": {
      "name": "python3",
      "display_name": "Python 3"
    },
    "language_info": {
      "name": "python"
    }
  },
  "cells": [
    {
      "cell_type": "code",
      "execution_count": null,
      "metadata": {
        "id": "ug8ltkRDWP8Y"
      },
      "outputs": [],
      "source": [
        "import numpy as np"
      ]
    },
    {
      "cell_type": "code",
      "source": [
        "class Lasso_Regression():\n",
        "\n",
        "  def __init__(self, learning_rate, no_of_iterations, lambda_parameter):\n",
        "    self.learning_rate = learning_rate\n",
        "    self.no_of_iterations = no_of_iterations\n",
        "    self.lambda_parameter = lambda_parameter\n",
        "\n",
        "  def fit(self,X,Y):\n",
        "    self.m, self.n = X.shape\n",
        "\n",
        "    self.w = np.zeros(self.n)\n",
        "    self.b = 0\n",
        "    self.X = X\n",
        "    self.Y = Y\n",
        "\n",
        "    for i in range(self.no_of_iterations):\n",
        "      self.update_weights()\n",
        "\n",
        "  def update_weights(self):\n",
        "    Y_prediction = self.predict(self.X)\n",
        "\n",
        "    dw = np.zeros(self.n)\n",
        "\n",
        "    for i in range(self.x):\n",
        "\n",
        "      if self.w[i]>0:\n",
        "        dw = (-(2 * self.X[:,i].dot(self.Y-Y_prediction))+self.lambda_parameter)/self.m\n",
        "\n",
        "\n",
        "      else:\n",
        "        dw = (-(2 * self.X[:,i].dot(self.Y-Y_prediction))-self.lambda_parameter)/self.m\n",
        "\n",
        "    db  = -2*np.sum(self.Y - Y_prediction)/self.m\n",
        "\n",
        "    self.w = self.b - self.learning_rate * dw\n",
        "    self.b = self.b - self.learning_rate * db\n",
        "\n",
        "\n",
        "\n",
        "  def predict(self,X):\n",
        "    return X.dot(self.w)-self.b"
      ],
      "metadata": {
        "id": "ewnJLVrxYBo_"
      },
      "execution_count": null,
      "outputs": []
    },
    {
      "cell_type": "code",
      "source": [],
      "metadata": {
        "id": "Zd69P0sCnF4R"
      },
      "execution_count": null,
      "outputs": []
    }
  ]
}